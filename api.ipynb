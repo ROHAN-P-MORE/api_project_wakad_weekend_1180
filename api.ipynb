{
 "cells": [
  {
   "cell_type": "code",
   "execution_count": 5,
   "id": "7997fd77",
   "metadata": {},
   "outputs": [],
   "source": [
    "import streamlit as st\n",
    "\n",
    "api_key = st.secrets[\"API_KEY\"]"
   ]
  },
  {
   "cell_type": "code",
   "execution_count": 6,
   "id": "889eb113",
   "metadata": {},
   "outputs": [
    {
     "name": "stdout",
     "output_type": "stream",
     "text": [
      "{'bestMatches': [{'1. symbol': 'NFC.DEX', '2. name': 'Netflix Inc', '3. type': 'Equity', '4. region': 'XETRA', '5. marketOpen': '08:00', '6. marketClose': '20:00', '7. timezone': 'UTC+02', '8. currency': 'EUR', '9. matchScore': '0.7778'}, {'1. symbol': 'NFC.FRK', '2. name': 'Netflix Inc', '3. type': 'Equity', '4. region': 'Frankfurt', '5. marketOpen': '08:00', '6. marketClose': '20:00', '7. timezone': 'UTC+02', '8. currency': 'EUR', '9. matchScore': '0.7778'}, {'1. symbol': 'NFLX', '2. name': 'Netflix Inc', '3. type': 'Equity', '4. region': 'United States', '5. marketOpen': '09:30', '6. marketClose': '16:00', '7. timezone': 'UTC-04', '8. currency': 'USD', '9. matchScore': '0.7778'}, {'1. symbol': 'NFLX34.SAO', '2. name': 'Netflix Inc', '3. type': 'Equity', '4. region': 'Brazil/Sao Paolo', '5. marketOpen': '10:00', '6. marketClose': '17:30', '7. timezone': 'UTC-03', '8. currency': 'BRL', '9. matchScore': '0.7778'}, {'1. symbol': '0QYI.LON', '2. name': 'Netflix Inc.', '3. type': 'Equity', '4. region': 'United Kingdom', '5. marketOpen': '08:00', '6. marketClose': '16:30', '7. timezone': 'UTC+01', '8. currency': 'USD', '9. matchScore': '0.7368'}, {'1. symbol': 'NFC1.FRK', '2. name': 'NETFLIX INC. CDR', '3. type': 'Equity', '4. region': 'Frankfurt', '5. marketOpen': '08:00', '6. marketClose': '20:00', '7. timezone': 'UTC+02', '8. currency': 'EUR', '9. matchScore': '0.6087'}]}\n"
     ]
    }
   ],
   "source": [
    "import requests\n",
    "\n",
    "url = \"https://alpha-vantage.p.rapidapi.com/query\"\n",
    "\n",
    "symbol = \"SBIN.BSE\"\n",
    "company = \"netflix\"\n",
    "\n",
    "\n",
    "querystring = {\"datatype\": \"json\", \"keywords\": company, \"function\": \"SYMBOL_SEARCH\"}\n",
    "\n",
    "headers = {\n",
    "    \"x-rapidapi-key\": st.secrets[\"API_KEY\"],\n",
    "    \"x-rapidapi-host\": \"alpha-vantage.p.rapidapi.com\",\n",
    "}\n",
    "\n",
    "response = requests.get(url, headers=headers, params=querystring)\n",
    "\n",
    "print(response.json())"
   ]
  },
  {
   "cell_type": "code",
   "execution_count": 7,
   "id": "86da6056",
   "metadata": {},
   "outputs": [
    {
     "data": {
      "text/html": [
       "<div>\n",
       "<style scoped>\n",
       "    .dataframe tbody tr th:only-of-type {\n",
       "        vertical-align: middle;\n",
       "    }\n",
       "\n",
       "    .dataframe tbody tr th {\n",
       "        vertical-align: top;\n",
       "    }\n",
       "\n",
       "    .dataframe thead th {\n",
       "        text-align: right;\n",
       "    }\n",
       "</style>\n",
       "<table border=\"1\" class=\"dataframe\">\n",
       "  <thead>\n",
       "    <tr style=\"text-align: right;\">\n",
       "      <th></th>\n",
       "      <th>1. symbol</th>\n",
       "      <th>2. name</th>\n",
       "      <th>3. type</th>\n",
       "      <th>4. region</th>\n",
       "      <th>5. marketOpen</th>\n",
       "      <th>6. marketClose</th>\n",
       "      <th>7. timezone</th>\n",
       "      <th>8. currency</th>\n",
       "      <th>9. matchScore</th>\n",
       "    </tr>\n",
       "  </thead>\n",
       "  <tbody>\n",
       "    <tr>\n",
       "      <th>0</th>\n",
       "      <td>NFC.DEX</td>\n",
       "      <td>Netflix Inc</td>\n",
       "      <td>Equity</td>\n",
       "      <td>XETRA</td>\n",
       "      <td>08:00</td>\n",
       "      <td>20:00</td>\n",
       "      <td>UTC+02</td>\n",
       "      <td>EUR</td>\n",
       "      <td>0.7778</td>\n",
       "    </tr>\n",
       "    <tr>\n",
       "      <th>1</th>\n",
       "      <td>NFC.FRK</td>\n",
       "      <td>Netflix Inc</td>\n",
       "      <td>Equity</td>\n",
       "      <td>Frankfurt</td>\n",
       "      <td>08:00</td>\n",
       "      <td>20:00</td>\n",
       "      <td>UTC+02</td>\n",
       "      <td>EUR</td>\n",
       "      <td>0.7778</td>\n",
       "    </tr>\n",
       "    <tr>\n",
       "      <th>2</th>\n",
       "      <td>NFLX</td>\n",
       "      <td>Netflix Inc</td>\n",
       "      <td>Equity</td>\n",
       "      <td>United States</td>\n",
       "      <td>09:30</td>\n",
       "      <td>16:00</td>\n",
       "      <td>UTC-04</td>\n",
       "      <td>USD</td>\n",
       "      <td>0.7778</td>\n",
       "    </tr>\n",
       "    <tr>\n",
       "      <th>3</th>\n",
       "      <td>NFLX34.SAO</td>\n",
       "      <td>Netflix Inc</td>\n",
       "      <td>Equity</td>\n",
       "      <td>Brazil/Sao Paolo</td>\n",
       "      <td>10:00</td>\n",
       "      <td>17:30</td>\n",
       "      <td>UTC-03</td>\n",
       "      <td>BRL</td>\n",
       "      <td>0.7778</td>\n",
       "    </tr>\n",
       "    <tr>\n",
       "      <th>4</th>\n",
       "      <td>0QYI.LON</td>\n",
       "      <td>Netflix Inc.</td>\n",
       "      <td>Equity</td>\n",
       "      <td>United Kingdom</td>\n",
       "      <td>08:00</td>\n",
       "      <td>16:30</td>\n",
       "      <td>UTC+01</td>\n",
       "      <td>USD</td>\n",
       "      <td>0.7368</td>\n",
       "    </tr>\n",
       "    <tr>\n",
       "      <th>5</th>\n",
       "      <td>NFC1.FRK</td>\n",
       "      <td>NETFLIX INC. CDR</td>\n",
       "      <td>Equity</td>\n",
       "      <td>Frankfurt</td>\n",
       "      <td>08:00</td>\n",
       "      <td>20:00</td>\n",
       "      <td>UTC+02</td>\n",
       "      <td>EUR</td>\n",
       "      <td>0.6087</td>\n",
       "    </tr>\n",
       "  </tbody>\n",
       "</table>\n",
       "</div>"
      ],
      "text/plain": [
       "    1. symbol           2. name 3. type         4. region 5. marketOpen  \\\n",
       "0     NFC.DEX       Netflix Inc  Equity             XETRA         08:00   \n",
       "1     NFC.FRK       Netflix Inc  Equity         Frankfurt         08:00   \n",
       "2        NFLX       Netflix Inc  Equity     United States         09:30   \n",
       "3  NFLX34.SAO       Netflix Inc  Equity  Brazil/Sao Paolo         10:00   \n",
       "4    0QYI.LON      Netflix Inc.  Equity    United Kingdom         08:00   \n",
       "5    NFC1.FRK  NETFLIX INC. CDR  Equity         Frankfurt         08:00   \n",
       "\n",
       "  6. marketClose 7. timezone 8. currency 9. matchScore  \n",
       "0          20:00      UTC+02         EUR        0.7778  \n",
       "1          20:00      UTC+02         EUR        0.7778  \n",
       "2          16:00      UTC-04         USD        0.7778  \n",
       "3          17:30      UTC-03         BRL        0.7778  \n",
       "4          16:30      UTC+01         USD        0.7368  \n",
       "5          20:00      UTC+02         EUR        0.6087  "
      ]
     },
     "execution_count": 7,
     "metadata": {},
     "output_type": "execute_result"
    }
   ],
   "source": [
    "import pandas as pd\n",
    "\n",
    "data = response.json()[\"bestMatches\"]\n",
    "search = pd.DataFrame(data)\n",
    "search"
   ]
  },
  {
   "cell_type": "code",
   "execution_count": 8,
   "id": "22ac4060",
   "metadata": {},
   "outputs": [
    {
     "name": "stdout",
     "output_type": "stream",
     "text": [
      "{'Meta Data': {'1. Information': 'Daily Prices (open, high, low, close) and Volumes', '2. Symbol': 'SBIN.BSE', '3. Last Refreshed': '2025-09-19', '4. Output Size': 'Compact', '5. Time Zone': 'US/Eastern'}, 'Time Series (Daily)': {'2025-09-19': {'1. open': '852.5000', '2. high': '863.5000', '3. low': '849.0500', '4. close': '862.2500', '5. volume': '552336'}, '2025-09-18': {'1. open': '856.7000', '2. high': '860.9000', '3. low': '851.0500', '4. close': '854.4500', '5. volume': '719272'}, '2025-09-17': {'1. open': '833.2500', '2. high': '858.0000', '3. low': '831.0000', '4. close': '856.9500', '5. volume': '1807341'}, '2025-09-16': {'1. open': '823.4000', '2. high': '833.0000', '3. low': '821.6000', '4. close': '831.8000', '5. volume': '368364'}, '2025-09-15': {'1. open': '823.3000', '2. high': '828.0000', '3. low': '821.4000', '4. close': '824.9000', '5. volume': '139666'}, '2025-09-12': {'1. open': '824.9000', '2. high': '825.3500', '3. low': '819.9000', '4. close': '823.3000', '5. volume': '297096'}, '2025-09-11': {'1. open': '816.2500', '2. high': '825.5000', '3. low': '816.2500', '4. close': '823.8000', '5. volume': '1044344'}, '2025-09-10': {'1. open': '811.2000', '2. high': '824.5000', '3. low': '810.2000', '4. close': '818.3000', '5. volume': '489810'}, '2025-09-09': {'1. open': '810.3500', '2. high': '812.4500', '3. low': '805.4000', '4. close': '808.9500', '5. volume': '170532'}, '2025-09-08': {'1. open': '807.1000', '2. high': '813.5000', '3. low': '807.1000', '4. close': '809.0000', '5. volume': '268859'}, '2025-09-05': {'1. open': '811.9000', '2. high': '812.2000', '3. low': '803.6000', '4. close': '806.9500', '5. volume': '272131'}, '2025-09-04': {'1. open': '816.7500', '2. high': '816.7500', '3. low': '807.8500', '4. close': '809.3500', '5. volume': '619504'}, '2025-09-03': {'1. open': '805.0000', '2. high': '813.2000', '3. low': '803.1000', '4. close': '812.1500', '5. volume': '187814'}, '2025-09-02': {'1. open': '809.9000', '2. high': '810.5000', '3. low': '802.9000', '4. close': '803.9500', '5. volume': '119021'}, '2025-09-01': {'1. open': '802.6500', '2. high': '808.2500', '3. low': '802.6500', '4. close': '805.9000', '5. volume': '164286'}, '2025-08-29': {'1. open': '802.0000', '2. high': '807.0000', '3. low': '798.6000', '4. close': '802.3500', '5. volume': '520632'}, '2025-08-28': {'1. open': '807.8000', '2. high': '810.6000', '3. low': '800.7000', '4. close': '802.0500', '5. volume': '146716'}, '2025-08-26': {'1. open': '815.8000', '2. high': '815.8000', '3. low': '806.5500', '4. close': '807.8000', '5. volume': '677825'}, '2025-08-25': {'1. open': '817.0000', '2. high': '820.4500', '3. low': '814.0000', '4. close': '815.5000', '5. volume': '373280'}, '2025-08-22': {'1. open': '825.5000', '2. high': '825.9500', '3. low': '815.5500', '4. close': '816.1000', '5. volume': '158755'}, '2025-08-21': {'1. open': '828.8000', '2. high': '833.4500', '3. low': '824.5000', '4. close': '825.5500', '5. volume': '138694'}, '2025-08-20': {'1. open': '829.8000', '2. high': '831.5000', '3. low': '826.9500', '4. close': '828.8000', '5. volume': '156440'}, '2025-08-19': {'1. open': '827.6500', '2. high': '831.2500', '3. low': '825.8500', '4. close': '830.3500', '5. volume': '289674'}, '2025-08-18': {'1. open': '831.3500', '2. high': '835.2000', '3. low': '825.3000', '4. close': '827.0000', '5. volume': '435823'}, '2025-08-14': {'1. open': '821.8500', '2. high': '828.0000', '3. low': '819.2000', '4. close': '826.7000', '5. volume': '492882'}, '2025-08-13': {'1. open': '823.4500', '2. high': '824.9000', '3. low': '820.5500', '4. close': '822.1500', '5. volume': '847012'}, '2025-08-12': {'1. open': '824.3000', '2. high': '825.6000', '3. low': '820.0000', '4. close': '820.5500', '5. volume': '784250'}, '2025-08-11': {'1. open': '807.0000', '2. high': '824.9500', '3. low': '807.0000', '4. close': '824.3000', '5. volume': '1141997'}, '2025-08-08': {'1. open': '805.0000', '2. high': '807.9500', '3. low': '790.1000', '4. close': '804.5500', '5. volume': '621304'}, '2025-08-07': {'1. open': '801.1000', '2. high': '806.5000', '3. low': '793.3000', '4. close': '805.2500', '5. volume': '188248'}, '2025-08-06': {'1. open': '801.0000', '2. high': '810.0000', '3. low': '799.0000', '4. close': '805.1500', '5. volume': '376366'}, '2025-08-05': {'1. open': '795.6500', '2. high': '803.6500', '3. low': '795.6500', '4. close': '800.7000', '5. volume': '512346'}, '2025-08-04': {'1. open': '795.0000', '2. high': '797.4500', '3. low': '786.5500', '4. close': '795.6500', '5. volume': '193850'}, '2025-08-01': {'1. open': '796.5000', '2. high': '800.7500', '3. low': '791.9500', '4. close': '793.9500', '5. volume': '234321'}, '2025-07-31': {'1. open': '796.6500', '2. high': '803.6000', '3. low': '792.4500', '4. close': '796.4500', '5. volume': '378571'}, '2025-07-30': {'1. open': '799.8500', '2. high': '803.4000', '3. low': '796.2500', '4. close': '801.8500', '5. volume': '154363'}, '2025-07-29': {'1. open': '795.3500', '2. high': '800.2000', '3. low': '793.1000', '4. close': '798.9000', '5. volume': '330118'}, '2025-07-28': {'1. open': '808.9500', '2. high': '809.2000', '3. low': '796.0000', '4. close': '797.1500', '5. volume': '389824'}, '2025-07-25': {'1. open': '814.3500', '2. high': '819.0000', '3. low': '805.5500', '4. close': '806.5000', '5. volume': '383923'}, '2025-07-24': {'1. open': '819.7500', '2. high': '821.9500', '3. low': '810.6500', '4. close': '815.8500', '5. volume': '323698'}, '2025-07-23': {'1. open': '815.2000', '2. high': '825.0000', '3. low': '811.4000', '4. close': '820.7500', '5. volume': '739975'}, '2025-07-22': {'1. open': '829.0000', '2. high': '829.0000', '3. low': '814.0000', '4. close': '815.0000', '5. volume': '174364'}, '2025-07-21': {'1. open': '823.5000', '2. high': '827.4000', '3. low': '817.9500', '4. close': '824.2000', '5. volume': '258166'}, '2025-07-18': {'1. open': '832.4000', '2. high': '832.4000', '3. low': '820.0500', '4. close': '823.3000', '5. volume': '256301'}, '2025-07-17': {'1. open': '839.0000', '2. high': '842.3000', '3. low': '826.1500', '4. close': '828.6000', '5. volume': '624129'}, '2025-07-16': {'1. open': '816.5000', '2. high': '834.0000', '3. low': '815.1500', '4. close': '831.5500', '5. volume': '1238621'}, '2025-07-15': {'1. open': '810.2000', '2. high': '821.0000', '3. low': '810.2000', '4. close': '816.7500', '5. volume': '460084'}, '2025-07-14': {'1. open': '810.4000', '2. high': '815.6000', '3. low': '808.0000', '4. close': '809.3000', '5. volume': '435542'}, '2025-07-11': {'1. open': '808.0000', '2. high': '812.6000', '3. low': '804.5000', '4. close': '808.5000', '5. volume': '227573'}, '2025-07-10': {'1. open': '812.0000', '2. high': '815.5000', '3. low': '807.0500', '4. close': '808.0000', '5. volume': '174968'}, '2025-07-09': {'1. open': '810.0000', '2. high': '812.2500', '3. low': '809.1000', '4. close': '810.8500', '5. volume': '176144'}, '2025-07-08': {'1. open': '808.9500', '2. high': '813.8500', '3. low': '805.5000', '4. close': '812.8000', '5. volume': '573527'}, '2025-07-07': {'1. open': '812.8000', '2. high': '812.8000', '3. low': '805.2000', '4. close': '806.9500', '5. volume': '116638'}, '2025-07-04': {'1. open': '810.2500', '2. high': '813.5000', '3. low': '804.2000', '4. close': '811.8500', '5. volume': '359322'}, '2025-07-03': {'1. open': '813.0000', '2. high': '815.0000', '3. low': '806.0000', '4. close': '807.1000', '5. volume': '429112'}, '2025-07-02': {'1. open': '820.7000', '2. high': '824.3500', '3. low': '809.1000', '4. close': '813.2000', '5. volume': '193280'}, '2025-07-01': {'1. open': '820.3500', '2. high': '824.9500', '3. low': '813.2500', '4. close': '820.2500', '5. volume': '633178'}, '2025-06-30': {'1. open': '808.9500', '2. high': '821.0000', '3. low': '807.0500', '4. close': '820.3500', '5. volume': '478069'}, '2025-06-27': {'1. open': '806.0000', '2. high': '809.5000', '3. low': '802.4000', '4. close': '805.4000', '5. volume': '477274'}, '2025-06-26': {'1. open': '802.7000', '2. high': '803.4500', '3. low': '791.5000', '4. close': '797.0000', '5. volume': '478368'}, '2025-06-25': {'1. open': '799.0000', '2. high': '805.0000', '3. low': '796.1000', '4. close': '800.1000', '5. volume': '197275'}, '2025-06-24': {'1. open': '798.5000', '2. high': '806.5000', '3. low': '793.6000', '4. close': '795.2500', '5. volume': '937612'}, '2025-06-23': {'1. open': '790.2000', '2. high': '794.6000', '3. low': '788.4500', '4. close': '790.1500', '5. volume': '212782'}, '2025-06-20': {'1. open': '787.9500', '2. high': '799.1000', '3. low': '786.3000', '4. close': '796.0000', '5. volume': '224991'}, '2025-06-19': {'1. open': '792.8500', '2. high': '793.2000', '3. low': '781.5000', '4. close': '784.7000', '5. volume': '235832'}, '2025-06-18': {'1. open': '792.1000', '2. high': '795.5000', '3. low': '788.3500', '4. close': '791.7500', '5. volume': '131579'}, '2025-06-17': {'1. open': '793.5000', '2. high': '798.8000', '3. low': '790.7500', '4. close': '792.2000', '5. volume': '1103108'}, '2025-06-16': {'1. open': '792.5500', '2. high': '795.3500', '3. low': '786.3500', '4. close': '792.8500', '5. volume': '1385709'}, '2025-06-13': {'1. open': '789.7500', '2. high': '796.2000', '3. low': '788.9000', '4. close': '792.4000', '5. volume': '362528'}, '2025-06-12': {'1. open': '816.0000', '2. high': '816.5500', '3. low': '801.2500', '4. close': '805.6500', '5. volume': '182058'}, '2025-06-11': {'1. open': '817.0500', '2. high': '820.6000', '3. low': '812.9000', '4. close': '814.9500', '5. volume': '183277'}, '2025-06-10': {'1. open': '821.9500', '2. high': '821.9500', '3. low': '814.6500', '4. close': '817.0500', '5. volume': '406292'}, '2025-06-09': {'1. open': '817.1000', '2. high': '824.4000', '3. low': '815.6000', '4. close': '820.0500', '5. volume': '432300'}, '2025-06-06': {'1. open': '806.1000', '2. high': '816.4500', '3. low': '802.9000', '4. close': '812.8500', '5. volume': '943903'}, '2025-06-05': {'1. open': '809.0000', '2. high': '811.9000', '3. low': '803.0000', '4. close': '806.1000', '5. volume': '319568'}, '2025-06-04': {'1. open': '815.1000', '2. high': '815.9500', '3. low': '805.0000', '4. close': '806.4500', '5. volume': '147931'}, '2025-06-03': {'1. open': '816.9000', '2. high': '817.9500', '3. low': '805.2000', '4. close': '809.7500', '5. volume': '1443812'}, '2025-06-02': {'1. open': '812.1000', '2. high': '822.5000', '3. low': '809.1000', '4. close': '813.4500', '5. volume': '1094058'}, '2025-05-30': {'1. open': '797.3500', '2. high': '814.3500', '3. low': '792.7500', '4. close': '812.4000', '5. volume': '510858'}, '2025-05-29': {'1. open': '797.1000', '2. high': '800.0000', '3. low': '791.4000', '4. close': '797.3000', '5. volume': '250346'}, '2025-05-28': {'1. open': '794.0000', '2. high': '798.8500', '3. low': '792.9000', '4. close': '796.4500', '5. volume': '282344'}, '2025-05-27': {'1. open': '794.1500', '2. high': '801.1500', '3. low': '789.7500', '4. close': '793.8000', '5. volume': '1122936'}, '2025-05-26': {'1. open': '791.4500', '2. high': '797.5500', '3. low': '789.3000', '4. close': '794.3500', '5. volume': '247585'}, '2025-05-23': {'1. open': '787.2000', '2. high': '794.8000', '3. low': '786.4000', '4. close': '790.4500', '5. volume': '456862'}, '2025-05-22': {'1. open': '788.9000', '2. high': '788.9000', '3. low': '780.6000', '4. close': '785.3500', '5. volume': '390333'}, '2025-05-21': {'1. open': '786.5000', '2. high': '790.7000', '3. low': '779.4000', '4. close': '787.2000', '5. volume': '260511'}, '2025-05-20': {'1. open': '798.2500', '2. high': '799.6500', '3. low': '784.0000', '4. close': '785.3500', '5. volume': '441739'}, '2025-05-19': {'1. open': '792.9500', '2. high': '801.3500', '3. low': '791.8500', '4. close': '794.9000', '5. volume': '508945'}, '2025-05-16': {'1. open': '804.8000', '2. high': '804.8000', '3. low': '790.6000', '4. close': '791.8500', '5. volume': '645169'}, '2025-05-15': {'1. open': '804.8500', '2. high': '809.5000', '3. low': '794.5500', '4. close': '807.7000', '5. volume': '904539'}, '2025-05-14': {'1. open': '805.2500', '2. high': '807.4500', '3. low': '796.5000', '4. close': '800.3500', '5. volume': '1139114'}, '2025-05-13': {'1. open': '800.4500', '2. high': '807.7000', '3. low': '797.2500', '4. close': '801.9000', '5. volume': '717454'}, '2025-05-12': {'1. open': '799.8500', '2. high': '803.9000', '3. low': '793.1000', '4. close': '801.6000', '5. volume': '829415'}, '2025-05-09': {'1. open': '755.2500', '2. high': '781.4000', '3. low': '755.2500', '4. close': '779.4000', '5. volume': '375997'}, '2025-05-08': {'1. open': '778.0000', '2. high': '786.5000', '3. low': '765.0000', '4. close': '768.7500', '5. volume': '463248'}, '2025-05-07': {'1. open': '762.2500', '2. high': '782.5500', '3. low': '762.2500', '4. close': '776.1500', '5. volume': '581175'}, '2025-05-06': {'1. open': '792.2000', '2. high': '799.0000', '3. low': '771.1500', '4. close': '774.1500', '5. volume': '761282'}, '2025-05-05': {'1. open': '784.9500', '2. high': '799.1000', '3. low': '783.6500', '4. close': '790.0000', '5. volume': '771587'}, '2025-05-02': {'1. open': '792.0500', '2. high': '802.9500', '3. low': '789.2500', '4. close': '800.0500', '5. volume': '335006'}, '2025-04-30': {'1. open': '812.8500', '2. high': '812.8500', '3. low': '784.4500', '4. close': '788.1500', '5. volume': '412886'}}}\n"
     ]
    }
   ],
   "source": [
    "import requests\n",
    "\n",
    "url = \"https://alpha-vantage.p.rapidapi.com/query\"\n",
    "\n",
    "symbol = \"SBIN.BSE\"\n",
    "\n",
    "querystring = {\n",
    "    \"function\": \"TIME_SERIES_DAILY\",\n",
    "    \"symbol\": symbol,\n",
    "    \"outputsize\": \"compact\",\n",
    "    \"datatype\": \"json\",\n",
    "}\n",
    "\n",
    "headers = {\n",
    "    \"x-rapidapi-key\": st.secrets[\"API_KEY\"],\n",
    "    \"x-rapidapi-host\": \"alpha-vantage.p.rapidapi.com\",\n",
    "}\n",
    "\n",
    "response = requests.get(url, headers=headers, params=querystring)\n",
    "\n",
    "print(response.json())"
   ]
  },
  {
   "cell_type": "code",
   "execution_count": 9,
   "id": "78f007c7",
   "metadata": {},
   "outputs": [
    {
     "data": {
      "text/plain": [
       "dict_keys(['Meta Data', 'Time Series (Daily)'])"
      ]
     },
     "execution_count": 9,
     "metadata": {},
     "output_type": "execute_result"
    }
   ],
   "source": [
    "response.json().keys()"
   ]
  },
  {
   "cell_type": "code",
   "execution_count": null,
   "id": "0733fdb5",
   "metadata": {},
   "outputs": [],
   "source": [
    "data = response.json()[\"Time Series (Daily)\"]\n",
    "df_sbin = pd.DataFrame(data).T\n",
    "df_sbin"
   ]
  }
 ],
 "metadata": {
  "kernelspec": {
   "display_name": "API_Project_20",
   "language": "python",
   "name": "python3"
  },
  "language_info": {
   "codemirror_mode": {
    "name": "ipython",
    "version": 3
   },
   "file_extension": ".py",
   "mimetype": "text/x-python",
   "name": "python",
   "nbconvert_exporter": "python",
   "pygments_lexer": "ipython3",
   "version": "3.13.6"
  }
 },
 "nbformat": 4,
 "nbformat_minor": 5
}
